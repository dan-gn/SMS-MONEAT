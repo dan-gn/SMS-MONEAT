{
 "cells": [
  {
   "cell_type": "code",
   "execution_count": 2,
   "metadata": {},
   "outputs": [],
   "source": [
    "import pandas as pd\n",
    "import numpy as np\n",
    "import torch\n",
    "import torch.nn as nn\n",
    "from scipy.io import arff\n",
    "from sklearn.preprocessing import MinMaxScaler\n",
    "from scipy import stats\n",
    "\n",
    "import sys\n",
    "sys.path.insert(0, '..')\n",
    "\n",
    "from algorithms.fs_neat import FS_NEAT\n",
    "from algorithms.n3o import N3O\n",
    "from algorithms.neat import set_seed\n",
    "from utilities.activation_functions import Gaussian\n",
    "from utilities.fitness_functions import torch_fitness_function"
   ]
  },
  {
   "cell_type": "code",
   "execution_count": 11,
   "metadata": {},
   "outputs": [
    {
     "data": {
      "text/plain": [
       "array([b'Tumor', b'Normal'], dtype=object)"
      ]
     },
     "execution_count": 11,
     "metadata": {},
     "output_type": "execute_result"
    }
   ],
   "source": [
    "# Load train dataset\n",
    "data = arff.loadarff('../datasets/ALL-AML_train.arff')\n",
    "df_train = pd.DataFrame(data[0])\n",
    "\n",
    "# Load test dataset\n",
    "data = arff.loadarff('../datasets/ALL-AML_test.arff')\n",
    "df_test = pd.DataFrame(data[0])\n",
    "\n",
    "df_train.head()"
   ]
  }
 ],
 "metadata": {
  "interpreter": {
   "hash": "6d46af94c2bbce495f1e668725902fa517c90b1782bcfe2fce0dd9868df553d3"
  },
  "kernelspec": {
   "display_name": "Python 3.8.3 64-bit ('base': conda)",
   "name": "python3"
  },
  "language_info": {
   "name": "python",
   "version": "3.8.3"
  },
  "orig_nbformat": 4
 },
 "nbformat": 4,
 "nbformat_minor": 2
}
