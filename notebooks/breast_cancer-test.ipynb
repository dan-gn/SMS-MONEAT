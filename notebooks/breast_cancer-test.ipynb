{
 "cells": [
  {
   "cell_type": "markdown",
   "metadata": {},
   "source": [
    "## Import required libraries and modules"
   ]
  },
  {
   "cell_type": "code",
   "execution_count": 1,
   "metadata": {},
   "outputs": [],
   "source": [
    "from scipy.io import arff\n",
    "import pandas as pd\n",
    "import numpy as np\n",
    "import torch\n",
    "import torch.nn as nn\n",
    "from sklearn.preprocessing import MinMaxScaler\n",
    "\n",
    "import sys\n",
    "sys.path.insert(0, '..')\n",
    "\n",
    "from algorithms.fs_neat import FS_NEAT\n",
    "from algorithms.n3o import N3O\n",
    "from algorithms.neat import set_seed\n",
    "from utilities.activation_functions import Gaussian\n",
    "from utilities.fitness_functions import torch_fitness_function"
   ]
  },
  {
   "cell_type": "markdown",
   "metadata": {},
   "source": [
    "## Load data"
   ]
  },
  {
   "cell_type": "code",
   "execution_count": 2,
   "metadata": {},
   "outputs": [
    {
     "name": "stdout",
     "output_type": "stream",
     "text": [
      "Train dataset shape: (78, 24482), Relapsed instances: 34.0, Non-Relapsed instances: 44.0\n",
      "Test dataset shape: (19, 24482), Relapsed instances: 12.0, Non-Relapsed instances: 7.0\n"
     ]
    }
   ],
   "source": [
    "# Load train dataset\n",
    "data = arff.loadarff('../datasets/breastCancer-train.arff')\n",
    "df_train = pd.DataFrame(data[0])\n",
    "\n",
    "# Load test dataset\n",
    "data = arff.loadarff('../datasets/breastCancer-test.arff')\n",
    "df_test = pd.DataFrame(data[0])\n",
    "\n",
    "# Change category class label to binary class label\n",
    "labels = {b'relapse' : 1, b'non-relapse' : 0}\n",
    "df_train['Class'] = df_train['Class'].replace(labels)\n",
    "df_test['Class'] = df_test['Class'].replace(labels)\n",
    "\n",
    "# Count class distribution from both datasets\n",
    "n_relapsed_train = np.sum(df_train['Class'].to_numpy(dtype=np.float32))\n",
    "n_non_relapsed_train = df_train.shape[0] - n_relapsed_train\n",
    "n_relapsed_test = np.sum(df_test['Class'].to_numpy(dtype=np.float32))\n",
    "n_non_relapsed_test = df_test.shape[0] - n_relapsed_test\n",
    "\n",
    "# Print information\n",
    "print(f\"Train dataset shape: {df_train.shape}, Relapsed instances: {n_relapsed_train}, Non-Relapsed instances: {n_non_relapsed_train}\")\n",
    "print(f\"Test dataset shape: {df_test.shape}, Relapsed instances: {n_relapsed_test}, Non-Relapsed instances: {n_non_relapsed_test}\")"
   ]
  },
  {
   "cell_type": "markdown",
   "metadata": {},
   "source": [
    "## Preprocess datasets"
   ]
  },
  {
   "cell_type": "code",
   "execution_count": 3,
   "metadata": {},
   "outputs": [],
   "source": [
    "# Convert train dataset to Numpy array\n",
    "x_train = df_train.iloc[:, :-1].to_numpy(dtype=np.float32)\n",
    "y_train = df_train.iloc[:, -1].to_numpy(dtype=np.float32)\n",
    "\n",
    "# Convert test dataset to Numpy array\n",
    "x_test = df_test.iloc[:, :-1].to_numpy(dtype=np.float32)\n",
    "y_test = df_test.iloc[:, -1].to_numpy(dtype=np.float32)"
   ]
  },
  {
   "cell_type": "markdown",
   "metadata": {},
   "source": [
    "## Kruskal Wallis H Test"
   ]
  },
  {
   "cell_type": "code",
   "execution_count": 4,
   "metadata": {},
   "outputs": [],
   "source": [
    "from scipy import stats\n",
    "\n",
    "kw_pvalue = np.zeros(x_train.shape[1])\n",
    "\n",
    "for feature in range(x_train.shape[1]):\n",
    "\t_, kw_pvalue[feature] = stats.kruskal(x_train[:, feature], y_train)"
   ]
  },
  {
   "cell_type": "code",
   "execution_count": 5,
   "metadata": {},
   "outputs": [
    {
     "data": {
      "text/plain": [
       "((78, 24481), (78, 12452))"
      ]
     },
     "execution_count": 5,
     "metadata": {},
     "output_type": "execute_result"
    }
   ],
   "source": [
    "kw_feature_selected = np.argwhere(kw_pvalue < 1e-5)\n",
    "kw_pvalue = kw_pvalue[kw_feature_selected]\n",
    "x_train_kw = x_train[:, kw_feature_selected[:, 0]]\n",
    "x_test_kw = x_test[:, kw_feature_selected[:, 0]]\n",
    "\n",
    "x_train.shape, x_train_kw.shape \t"
   ]
  },
  {
   "cell_type": "code",
   "execution_count": 6,
   "metadata": {},
   "outputs": [],
   "source": [
    "scaler = MinMaxScaler()\n",
    "x_train_norm = scaler.fit_transform(x_train_kw)\n",
    "x_test_norm = scaler.transform(x_test_kw)"
   ]
  },
  {
   "cell_type": "markdown",
   "metadata": {},
   "source": [
    "## Pre-process data"
   ]
  },
  {
   "cell_type": "code",
   "execution_count": 7,
   "metadata": {},
   "outputs": [],
   "source": [
    "# Preprocess training dataset\n",
    "y_train = np.expand_dims(y_train, axis=1)\n",
    "y_test = np.expand_dims(y_test, axis=1)\n",
    "\t\n",
    "x_train = torch.from_numpy(x_train_norm).type(torch.float32)\n",
    "y_train = torch.from_numpy(y_train).type(torch.float32)\n",
    "x_test = torch.from_numpy(x_test_norm).type(torch.float32)\n",
    "y_test = torch.from_numpy(y_test).type(torch.float32)"
   ]
  },
  {
   "cell_type": "markdown",
   "metadata": {},
   "source": [
    "## NEAT Parameters"
   ]
  },
  {
   "cell_type": "code",
   "execution_count": 8,
   "metadata": {},
   "outputs": [],
   "source": [
    "params = {\n",
    "\t'fitness_function' : torch_fitness_function,\n",
    "\t'n_population' : 1000, \n",
    "\t'max_iterations' : 40,\n",
    "\t'hidden_activation_function' : nn.Tanh(),\n",
    "\t'hidden_activation_coeff' : 4.9 * 0.5,\n",
    "\t'output_activation_function' : Gaussian(),\n",
    "\t'output_activation_coeff' : 1,\n",
    "\t'regularization_parameter' : 0.5,\n",
    "\t'crossover_prob' : 0.75,\n",
    "\t'n_competitors' : 2,\n",
    "\t'disable_node_prob' : 0.75,\n",
    "\t'interspecies_mating_rate' : 0.001,\n",
    "\t'add_input_prob' : 0.05,\n",
    "\t'swap_input_prob' : 0.05,\n",
    "\t'add_connection_prob' : 0.05,\n",
    "\t'add_node_prob' : 0.03,\n",
    "\t'weight_mutation_prob' : 0.04,\n",
    "\t'pol_mutation_distr' : 5,\n",
    "\t'weight_mutation_sustitution_prob' : 0.1,\n",
    "\t'compatibility_threshold' : 3,\n",
    "\t'compatibility_distance_coeff' : [1.0, 1.0, 0.4],\n",
    "\t'stagnant_generations_threshold' : 15,\n",
    "\t'champion_elitism_threshold' : 5,\n",
    "\t'elitism_prop' : 0.1,\n",
    "\t'initial_weight_limits' : [-1, 1],\n",
    "}"
   ]
  },
  {
   "cell_type": "code",
   "execution_count": 9,
   "metadata": {},
   "outputs": [],
   "source": [
    "problem = {\n",
    "\t'x_train' : x_train,\n",
    "\t'y_train' : y_train,\n",
    "\t'x_test' : x_test,\n",
    "\t'y_test' : y_test,\n",
    "\t'kw_htest_pvalue' : kw_pvalue\n",
    "}\n"
   ]
  },
  {
   "cell_type": "code",
   "execution_count": 10,
   "metadata": {},
   "outputs": [
    {
     "name": "stdout",
     "output_type": "stream",
     "text": [
      "Execution = 0, seed = 0\n",
      "Iteration: 0, Best solution: Train fit = 99.3543, Acc = 0.6538; Test fit = 99.3454, Acc = 0.6316;  Nodes = [1, 0, 1]\n",
      "Iteration: 20, Best solution: Train fit = 99.4068, Acc = 0.6795; Test fit = 99.3723, Acc = 0.7368;  Nodes = [3, 1, 1]\n",
      "Train dataset: fitness = 99.41484069824219, accuracy = 0.7051281929016113 \n",
      "Test dataset: fitness = 99.36503601074219, accuracy = 0.7368420958518982 \n",
      "Execution = 1, seed = 1\n",
      "Iteration: 0, Best solution: Train fit = 99.3621, Acc = 0.6538; Test fit = 99.2919, Acc = 0.5789;  Nodes = [1, 0, 1]\n"
     ]
    },
    {
     "ename": "KeyboardInterrupt",
     "evalue": "",
     "output_type": "error",
     "traceback": [
      "\u001b[1;31m---------------------------------------------------------------------------\u001b[0m",
      "\u001b[1;31mKeyboardInterrupt\u001b[0m                         Traceback (most recent call last)",
      "\u001b[1;32m<ipython-input-10-520b9a7763f5>\u001b[0m in \u001b[0;36m<module>\u001b[1;34m\u001b[0m\n\u001b[0;32m      5\u001b[0m \u001b[1;33m\u001b[0m\u001b[0m\n\u001b[0;32m      6\u001b[0m         \u001b[0mneat\u001b[0m \u001b[1;33m=\u001b[0m \u001b[0mN3O\u001b[0m\u001b[1;33m(\u001b[0m\u001b[0mproblem\u001b[0m\u001b[1;33m,\u001b[0m \u001b[0mparams\u001b[0m\u001b[1;33m)\u001b[0m\u001b[1;33m\u001b[0m\u001b[1;33m\u001b[0m\u001b[0m\n\u001b[1;32m----> 7\u001b[1;33m         \u001b[0mneat\u001b[0m\u001b[1;33m.\u001b[0m\u001b[0mrun\u001b[0m\u001b[1;33m(\u001b[0m\u001b[1;33m)\u001b[0m\u001b[1;33m\u001b[0m\u001b[1;33m\u001b[0m\u001b[0m\n\u001b[0m\u001b[0;32m      8\u001b[0m         \u001b[1;31m# neat.best_solution.describe()\u001b[0m\u001b[1;33m\u001b[0m\u001b[1;33m\u001b[0m\u001b[1;33m\u001b[0m\u001b[0m\n\u001b[0;32m      9\u001b[0m         \u001b[0mres\u001b[0m \u001b[1;33m=\u001b[0m \u001b[1;33m{\u001b[0m\u001b[1;34m'execution'\u001b[0m \u001b[1;33m:\u001b[0m \u001b[0mi\u001b[0m\u001b[1;33m,\u001b[0m \u001b[1;34m'model'\u001b[0m \u001b[1;33m:\u001b[0m \u001b[0mneat\u001b[0m\u001b[1;33m}\u001b[0m\u001b[1;33m\u001b[0m\u001b[1;33m\u001b[0m\u001b[0m\n",
      "\u001b[1;32md:\\Documentos\\MCIC\\Tesis\\Code\\FS-NEAT\\algorithms\\neat.py\u001b[0m in \u001b[0;36mrun\u001b[1;34m(self)\u001b[0m\n\u001b[0;32m    482\u001b[0m                 \u001b[1;32mfor\u001b[0m \u001b[0mi\u001b[0m \u001b[1;32min\u001b[0m \u001b[0mrange\u001b[0m\u001b[1;33m(\u001b[0m\u001b[0mself\u001b[0m\u001b[1;33m.\u001b[0m\u001b[0mmax_iterations\u001b[0m\u001b[1;33m)\u001b[0m\u001b[1;33m:\u001b[0m\u001b[1;33m\u001b[0m\u001b[1;33m\u001b[0m\u001b[0m\n\u001b[0;32m    483\u001b[0m                         \u001b[1;31m# Compute new generation by crossover and mutation operators\u001b[0m\u001b[1;33m\u001b[0m\u001b[1;33m\u001b[0m\u001b[1;33m\u001b[0m\u001b[0m\n\u001b[1;32m--> 484\u001b[1;33m                         \u001b[0mself\u001b[0m\u001b[1;33m.\u001b[0m\u001b[0mpopulation\u001b[0m \u001b[1;33m=\u001b[0m \u001b[0mself\u001b[0m\u001b[1;33m.\u001b[0m\u001b[0mnext_generation\u001b[0m\u001b[1;33m(\u001b[0m\u001b[1;33m)\u001b[0m\u001b[1;33m\u001b[0m\u001b[1;33m\u001b[0m\u001b[0m\n\u001b[0m\u001b[0;32m    485\u001b[0m                         \u001b[0mself\u001b[0m\u001b[1;33m.\u001b[0m\u001b[0mtraining_fitness\u001b[0m\u001b[1;33m[\u001b[0m\u001b[0mi\u001b[0m\u001b[1;33m+\u001b[0m\u001b[1;36m1\u001b[0m\u001b[1;33m]\u001b[0m\u001b[1;33m,\u001b[0m \u001b[0mself\u001b[0m\u001b[1;33m.\u001b[0m\u001b[0mtraining_accuracy\u001b[0m\u001b[1;33m[\u001b[0m\u001b[0mi\u001b[0m\u001b[1;33m+\u001b[0m\u001b[1;36m1\u001b[0m\u001b[1;33m]\u001b[0m \u001b[1;33m=\u001b[0m \u001b[0mself\u001b[0m\u001b[1;33m.\u001b[0m\u001b[0mbest_solution\u001b[0m\u001b[1;33m.\u001b[0m\u001b[0mfitness\u001b[0m\u001b[1;33m,\u001b[0m \u001b[0mself\u001b[0m\u001b[1;33m.\u001b[0m\u001b[0mbest_solution\u001b[0m\u001b[1;33m.\u001b[0m\u001b[0maccuracy\u001b[0m\u001b[1;33m\u001b[0m\u001b[1;33m\u001b[0m\u001b[0m\n\u001b[0;32m    486\u001b[0m                         \u001b[0mself\u001b[0m\u001b[1;33m.\u001b[0m\u001b[0mtesting_accuracy\u001b[0m\u001b[1;33m[\u001b[0m\u001b[0mi\u001b[0m\u001b[1;33m+\u001b[0m\u001b[1;36m1\u001b[0m\u001b[1;33m]\u001b[0m\u001b[1;33m,\u001b[0m \u001b[0mself\u001b[0m\u001b[1;33m.\u001b[0m\u001b[0mtesting_fitness\u001b[0m\u001b[1;33m[\u001b[0m\u001b[0mi\u001b[0m\u001b[1;33m+\u001b[0m\u001b[1;36m1\u001b[0m\u001b[1;33m]\u001b[0m \u001b[1;33m=\u001b[0m  \u001b[0mself\u001b[0m\u001b[1;33m.\u001b[0m\u001b[0mevaluate\u001b[0m\u001b[1;33m(\u001b[0m\u001b[0mself\u001b[0m\u001b[1;33m.\u001b[0m\u001b[0mbest_solution\u001b[0m\u001b[1;33m,\u001b[0m \u001b[0mself\u001b[0m\u001b[1;33m.\u001b[0m\u001b[0mx_test\u001b[0m\u001b[1;33m,\u001b[0m \u001b[0mself\u001b[0m\u001b[1;33m.\u001b[0m\u001b[0my_test\u001b[0m\u001b[1;33m)\u001b[0m\u001b[1;33m\u001b[0m\u001b[1;33m\u001b[0m\u001b[0m\n",
      "\u001b[1;32md:\\Documentos\\MCIC\\Tesis\\Code\\FS-NEAT\\algorithms\\neat.py\u001b[0m in \u001b[0;36mnext_generation\u001b[1;34m(self)\u001b[0m\n\u001b[0;32m    382\u001b[0m                                 \u001b[0mself\u001b[0m\u001b[1;33m.\u001b[0m\u001b[0mmutate\u001b[0m\u001b[1;33m(\u001b[0m\u001b[0mchild\u001b[0m\u001b[1;33m)\u001b[0m\u001b[1;33m\u001b[0m\u001b[1;33m\u001b[0m\u001b[0m\n\u001b[0;32m    383\u001b[0m                                 \u001b[1;31m# child.describe()\u001b[0m\u001b[1;33m\u001b[0m\u001b[1;33m\u001b[0m\u001b[1;33m\u001b[0m\u001b[0m\n\u001b[1;32m--> 384\u001b[1;33m                                 \u001b[0mchild\u001b[0m\u001b[1;33m.\u001b[0m\u001b[0maccuracy\u001b[0m\u001b[1;33m,\u001b[0m \u001b[0mchild\u001b[0m\u001b[1;33m.\u001b[0m\u001b[0mfitness\u001b[0m \u001b[1;33m=\u001b[0m \u001b[0mself\u001b[0m\u001b[1;33m.\u001b[0m\u001b[0mevaluate\u001b[0m\u001b[1;33m(\u001b[0m\u001b[0mchild\u001b[0m\u001b[1;33m,\u001b[0m \u001b[0mself\u001b[0m\u001b[1;33m.\u001b[0m\u001b[0mx_train\u001b[0m\u001b[1;33m,\u001b[0m \u001b[0mself\u001b[0m\u001b[1;33m.\u001b[0m\u001b[0my_train\u001b[0m\u001b[1;33m)\u001b[0m\u001b[1;33m\u001b[0m\u001b[1;33m\u001b[0m\u001b[0m\n\u001b[0m\u001b[0;32m    385\u001b[0m                                 \u001b[1;31m# child.accuracy, child.fitness = self.evaluate(child, x_batch, y_batch)\u001b[0m\u001b[1;33m\u001b[0m\u001b[1;33m\u001b[0m\u001b[1;33m\u001b[0m\u001b[0m\n\u001b[0;32m    386\u001b[0m                                 \u001b[0moffspring\u001b[0m\u001b[1;33m.\u001b[0m\u001b[0mappend\u001b[0m\u001b[1;33m(\u001b[0m\u001b[0mchild\u001b[0m\u001b[1;33m)\u001b[0m\u001b[1;33m\u001b[0m\u001b[1;33m\u001b[0m\u001b[0m\n",
      "\u001b[1;32md:\\Documentos\\MCIC\\Tesis\\Code\\FS-NEAT\\algorithms\\fs_neat.py\u001b[0m in \u001b[0;36mevaluate\u001b[1;34m(self, genome, x, y)\u001b[0m\n\u001b[0;32m     75\u001b[0m                 \u001b[0mselected_input\u001b[0m\u001b[1;33m,\u001b[0m \u001b[0mlayer_weights\u001b[0m \u001b[1;33m=\u001b[0m \u001b[0mgenome\u001b[0m\u001b[1;33m.\u001b[0m\u001b[0mbuild_layers\u001b[0m\u001b[1;33m(\u001b[0m\u001b[1;33m)\u001b[0m\u001b[1;33m\u001b[0m\u001b[1;33m\u001b[0m\u001b[0m\n\u001b[0;32m     76\u001b[0m                 \u001b[0minput_index\u001b[0m \u001b[1;33m=\u001b[0m \u001b[0mtorch\u001b[0m\u001b[1;33m.\u001b[0m\u001b[0mtensor\u001b[0m\u001b[1;33m(\u001b[0m\u001b[0mselected_input\u001b[0m\u001b[1;33m)\u001b[0m\u001b[1;33m.\u001b[0m\u001b[0mtype\u001b[0m\u001b[1;33m(\u001b[0m\u001b[0mtorch\u001b[0m\u001b[1;33m.\u001b[0m\u001b[0mint32\u001b[0m\u001b[1;33m)\u001b[0m\u001b[1;33m\u001b[0m\u001b[1;33m\u001b[0m\u001b[0m\n\u001b[1;32m---> 77\u001b[1;33m                 \u001b[0mx_prima\u001b[0m \u001b[1;33m=\u001b[0m \u001b[0mx\u001b[0m\u001b[1;33m.\u001b[0m\u001b[0mindex_select\u001b[0m\u001b[1;33m(\u001b[0m\u001b[1;36m1\u001b[0m\u001b[1;33m,\u001b[0m \u001b[0minput_index\u001b[0m\u001b[1;33m)\u001b[0m\u001b[1;33m\u001b[0m\u001b[1;33m\u001b[0m\u001b[0m\n\u001b[0m\u001b[0;32m     78\u001b[0m                 \u001b[0mlayer_weights\u001b[0m \u001b[1;33m=\u001b[0m \u001b[1;33m[\u001b[0m\u001b[0mtorch\u001b[0m\u001b[1;33m.\u001b[0m\u001b[0mfrom_numpy\u001b[0m\u001b[1;33m(\u001b[0m\u001b[0mw\u001b[0m\u001b[1;33m)\u001b[0m\u001b[1;33m.\u001b[0m\u001b[0mtype\u001b[0m\u001b[1;33m(\u001b[0m\u001b[0mtorch\u001b[0m\u001b[1;33m.\u001b[0m\u001b[0mfloat32\u001b[0m\u001b[1;33m)\u001b[0m \u001b[1;32mfor\u001b[0m \u001b[0mw\u001b[0m \u001b[1;32min\u001b[0m \u001b[0mlayer_weights\u001b[0m\u001b[1;33m]\u001b[0m\u001b[1;33m\u001b[0m\u001b[1;33m\u001b[0m\u001b[0m\n\u001b[0;32m     79\u001b[0m                 \u001b[0mmodel\u001b[0m \u001b[1;33m=\u001b[0m \u001b[0mAnn_PyTorch\u001b[0m\u001b[1;33m(\u001b[0m\u001b[0mlayer_weights\u001b[0m\u001b[1;33m,\u001b[0m \u001b[0mself\u001b[0m\u001b[1;33m.\u001b[0m\u001b[0mactivation\u001b[0m\u001b[1;33m)\u001b[0m\u001b[1;33m\u001b[0m\u001b[1;33m\u001b[0m\u001b[0m\n",
      "\u001b[1;31mKeyboardInterrupt\u001b[0m: "
     ]
    }
   ],
   "source": [
    "\n",
    "results = []\n",
    "for i in range(2):\n",
    "\tset_seed(1) \n",
    "\tprint(f'Execution = {i}, seed = {i}')\n",
    "\n",
    "\tneat = N3O(problem, params)\n",
    "\tneat.run()\n",
    "\t# neat.best_solution.describe()\n",
    "\tres = {'execution' : i, 'model' : neat}\n",
    "\n",
    "\tresults.append(dict(res))\n",
    "\n",
    "\t\"\"\"\n",
    "\tDISPLAY RESULTS\n",
    "\t\"\"\"\n",
    "\n",
    "\tacc, fitness = neat.evaluate(neat.best_solution, neat.x_train, neat.y_train)\n",
    "\tprint(f'Train dataset: fitness = {fitness}, accuracy = {acc} ')\n",
    "\n",
    "\tacc, fitness = neat.evaluate(neat.best_solution, neat.x_test, neat.y_test)\n",
    "\tprint(f'Test dataset: fitness = {fitness}, accuracy = {acc} ')"
   ]
  }
 ],
 "metadata": {
  "interpreter": {
   "hash": "6d46af94c2bbce495f1e668725902fa517c90b1782bcfe2fce0dd9868df553d3"
  },
  "kernelspec": {
   "display_name": "Python 3.8.3 64-bit ('base': conda)",
   "name": "python3"
  },
  "language_info": {
   "codemirror_mode": {
    "name": "ipython",
    "version": 3
   },
   "file_extension": ".py",
   "mimetype": "text/x-python",
   "name": "python",
   "nbconvert_exporter": "python",
   "pygments_lexer": "ipython3",
   "version": "3.8.3"
  },
  "orig_nbformat": 4
 },
 "nbformat": 4,
 "nbformat_minor": 2
}
