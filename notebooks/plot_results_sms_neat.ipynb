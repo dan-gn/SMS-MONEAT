{
 "cells": [
  {
   "cell_type": "code",
   "execution_count": 25,
   "metadata": {},
   "outputs": [],
   "source": [
    "import numpy as np\n",
    "import pickle\n",
    "import matplotlib.pyplot as plt\n",
    "import statistics\n",
    "\n",
    "import sys\n",
    "sys.path.insert(0, '..')\n",
    "\n",
    "import os\n",
    "os.environ[\"KMP_DUPLICATE_LIB_OK\"]=\"TRUE\"\n",
    "\n",
    "%matplotlib inline"
   ]
  },
  {
   "cell_type": "code",
   "execution_count": 26,
   "metadata": {},
   "outputs": [
    {
     "name": "stdout",
     "output_type": "stream",
     "text": [
      "Reading test: Leukemia_GSE63270_0_MinMaxSc.pkl\n",
      "Reading test: Leukemia_GSE63270_1_MinMaxSc.pkl\n",
      "Reading test: Leukemia_GSE63270_2_MinMaxSc.pkl\n",
      "Reading test: Leukemia_GSE63270_3_MinMaxSc.pkl\n",
      "Reading test: Leukemia_GSE63270_4_MinMaxSc.pkl\n",
      "Reading test: Leukemia_GSE63270_5_MinMaxSc.pkl\n",
      "Reading test: Leukemia_GSE63270_6_MinMaxSc.pkl\n",
      "Reading test: Leukemia_GSE63270_7_MinMaxSc.pkl\n",
      "Reading test: Leukemia_GSE63270_8_MinMaxSc.pkl\n",
      "Reading test: Leukemia_GSE63270_9_MinMaxSc.pkl\n",
      "Reading test: Leukemia_GSE63270_10_MinMaxSc.pkl\n",
      "Reading test: Leukemia_GSE63270_11_MinMaxSc.pkl\n",
      "Reading test: Leukemia_GSE63270_12_MinMaxSc.pkl\n",
      "Reading test: Leukemia_GSE63270_13_MinMaxSc.pkl\n",
      "Reading test: Leukemia_GSE63270_14_MinMaxSc.pkl\n",
      "Reading test: Leukemia_GSE63270_15_MinMaxSc.pkl\n",
      "Reading test: Leukemia_GSE63270_16_MinMaxSc.pkl\n",
      "Reading test: Leukemia_GSE63270_17_MinMaxSc.pkl\n",
      "Reading test: Leukemia_GSE63270_18_MinMaxSc.pkl\n",
      "Reading test: Leukemia_GSE63270_19_MinMaxSc.pkl\n"
     ]
    }
   ],
   "source": [
    "# dataset = 'breastCancer-full'\n",
    "# dataset = 'ALL-AML-full'\n",
    "# dataset = 'prostate_tumorVSNormal-full'\n",
    "\n",
    "# dataset = 'Breast_GSE42568'\n",
    "# dataset = 'Colorectal_GSE8671'\n",
    "# dataset = 'Colorectal_GSE32323'\n",
    "# dataset = 'Colorectal_GSE44076'\n",
    "# dataset = 'Colorectal_GSE44861'\n",
    "# dataset = 'Leukemia_GSE14317'\n",
    "dataset = 'Leukemia_GSE63270'\n",
    "# dataset = 'Leukemia_GSE71935'\n",
    "\n",
    "n_tests = 20\n",
    "n_population = 100\n",
    "n_iterations = 18000\n",
    "\n",
    "models = []\n",
    "for i in range(n_tests):\n",
    "\tfilename = f'{dataset}_{i}_MinMaxSc.pkl'\n",
    "\tprint(f'Reading test: {filename}')\n",
    "\twith open(f'../results-sms_neat-pop_{n_population}-it_{n_iterations}/{dataset}/{filename}', 'rb') as f:\n",
    "\t\tproblem, params, res = pickle.load(f)\n",
    "\tmodels.append(res['model'])"
   ]
  },
  {
   "cell_type": "code",
   "execution_count": 27,
   "metadata": {},
   "outputs": [
    {
     "name": "stdout",
     "output_type": "stream",
     "text": [
      "Dataset Leukemia_GSE63270\n",
      "Labels: {b'normal': 0, b'AML': 1}\n",
      "Proportion (0.41, 0.59)\n",
      "Number of samples: Total = 101, Train dataset = 70, Test dataset = 31\n",
      "Average features: 14397.5\n",
      "Feature selected: 1.75\n",
      "Best solution found for testing dataset\n",
      "Testing dataset gmean (mean): 0.9327\n",
      "Testing dataset gmean (std): 0.0494\n",
      "Testing dataset gmean (max): 1.0000\n",
      "Testing dataset gmean (min): 0.8498\n"
     ]
    }
   ],
   "source": [
    "g_mean = np.zeros((n_tests, 1))\n",
    "features = np.zeros((n_tests, 1))\n",
    "fs = np.zeros((n_tests, 1))\n",
    "for i, model in enumerate(models):\n",
    "\t_, _, g_mean[i, 0] = model.evaluate(model.best_solution_test, model.x_test, model.y_test)\n",
    "\tfeatures[i, 0] = model.x_test.shape[1]\n",
    "\tfs[i, 0] = model.best_solution_test.fitness[1]\n",
    "\n",
    "samples_train, samples_test = model.x_train.shape[0], model.x_test.shape[0]\n",
    "n_samples = samples_train + samples_test\n",
    "class_1 = (model.y_train.sum() + model.y_test.sum()) / n_samples\n",
    "class_0 = 1 - class_1\n",
    "\n",
    "print(f'Dataset {dataset}')\n",
    "print(f\"Labels: {problem['labels']}\")\n",
    "print(f'Proportion ({class_0:.02f}, {class_1:.02f})')\n",
    "print(f'Number of samples: Total = {n_samples}, Train dataset = {samples_train}, Test dataset = {samples_test}')\n",
    "print(f'Average features: {features.mean()}')\n",
    "print(f'Feature selected: {fs.mean()}')\n",
    "print(f'Best solution found for testing dataset')\n",
    "print(f'Testing dataset gmean (mean): {g_mean.mean():.4f}')\n",
    "print(f'Testing dataset gmean (std): {statistics.stdev(g_mean.squeeze()):.4f}')\n",
    "print(f'Testing dataset gmean (max): {g_mean.max():.4f}')\n",
    "print(f'Testing dataset gmean (min): {g_mean.min():.4f}')\n",
    "\n"
   ]
  }
 ],
 "metadata": {
  "interpreter": {
   "hash": "6d46af94c2bbce495f1e668725902fa517c90b1782bcfe2fce0dd9868df553d3"
  },
  "kernelspec": {
   "display_name": "Python 3.8.3 64-bit ('base': conda)",
   "language": "python",
   "name": "python3"
  },
  "language_info": {
   "codemirror_mode": {
    "name": "ipython",
    "version": 3
   },
   "file_extension": ".py",
   "mimetype": "text/x-python",
   "name": "python",
   "nbconvert_exporter": "python",
   "pygments_lexer": "ipython3",
   "version": "3.8.3"
  },
  "orig_nbformat": 4
 },
 "nbformat": 4,
 "nbformat_minor": 2
}
