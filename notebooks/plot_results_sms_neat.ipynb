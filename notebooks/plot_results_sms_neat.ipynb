{
 "cells": [
  {
   "cell_type": "code",
   "execution_count": 87,
   "metadata": {},
   "outputs": [],
   "source": [
    "import numpy as np\n",
    "import pickle\n",
    "import matplotlib.pyplot as plt\n",
    "import statistics\n",
    "\n",
    "import sys\n",
    "sys.path.insert(0, '..')\n",
    "\n",
    "import os\n",
    "os.environ[\"KMP_DUPLICATE_LIB_OK\"]=\"TRUE\"\n",
    "\n",
    "%matplotlib inline"
   ]
  },
  {
   "cell_type": "code",
   "execution_count": 88,
   "metadata": {},
   "outputs": [
    {
     "name": "stdout",
     "output_type": "stream",
     "text": [
      "Reading test: Leukemia_GSE71935_0_it2500_MinMaxSc_f.pkl\n",
      "Reading test: Leukemia_GSE71935_1_it2500_MinMaxSc_f.pkl\n",
      "Reading test: Leukemia_GSE71935_2_it2500_MinMaxSc_f.pkl\n",
      "Reading test: Leukemia_GSE71935_3_it2500_MinMaxSc_f.pkl\n",
      "Reading test: Leukemia_GSE71935_4_it2500_MinMaxSc_f.pkl\n",
      "Reading test: Leukemia_GSE71935_5_it2500_MinMaxSc_f.pkl\n",
      "Reading test: Leukemia_GSE71935_6_it2500_MinMaxSc_f.pkl\n",
      "Reading test: Leukemia_GSE71935_7_it2500_MinMaxSc_f.pkl\n",
      "Reading test: Leukemia_GSE71935_8_it2500_MinMaxSc_f.pkl\n",
      "Reading test: Leukemia_GSE71935_9_it2500_MinMaxSc_f.pkl\n",
      "Reading test: Leukemia_GSE71935_10_it2500_MinMaxSc_f.pkl\n",
      "Reading test: Leukemia_GSE71935_11_it2500_MinMaxSc_f.pkl\n",
      "Reading test: Leukemia_GSE71935_12_it2500_MinMaxSc_f.pkl\n",
      "Reading test: Leukemia_GSE71935_13_it2500_MinMaxSc_f.pkl\n",
      "Reading test: Leukemia_GSE71935_14_it2500_MinMaxSc_f.pkl\n",
      "Reading test: Leukemia_GSE71935_15_it2500_MinMaxSc_f.pkl\n",
      "Reading test: Leukemia_GSE71935_16_it2500_MinMaxSc_f.pkl\n",
      "Reading test: Leukemia_GSE71935_17_it2500_MinMaxSc_f.pkl\n",
      "Reading test: Leukemia_GSE71935_18_it2500_MinMaxSc_f.pkl\n",
      "Reading test: Leukemia_GSE71935_19_it2500_MinMaxSc_f.pkl\n"
     ]
    }
   ],
   "source": [
    "# dataset = 'Breast_GSE42568'\n",
    "# dataset = 'Colorectal_GSE8671'\n",
    "# dataset = 'Colorectal_GSE32323'\n",
    "# dataset = 'Colorectal_GSE44076'\n",
    "# dataset = 'Colorectal_GSE44861'\n",
    "# dataset = 'Leukemia_GSE14317'\n",
    "# dataset = 'Leukemia_GSE63270'\n",
    "dataset = 'Leukemia_GSE71935'\n",
    "\n",
    "\n",
    "n_tests = 20\n",
    "n_iterations = 2500\n",
    "\n",
    "models = []\n",
    "for i in range(n_tests):\n",
    "\tfilename = f'{dataset}_{i}_it{n_iterations}_MinMaxSc_f.pkl'\n",
    "\tprint(f'Reading test: {filename}')\n",
    "\twith open(f'../results-sms_emoa/{dataset}/{filename}', 'rb') as f:\n",
    "\t\tproblem, params, res = pickle.load(f)\n",
    "\tmodels.append(res['model'])"
   ]
  },
  {
   "cell_type": "code",
   "execution_count": 89,
   "metadata": {},
   "outputs": [
    {
     "name": "stdout",
     "output_type": "stream",
     "text": [
      "Dataset Leukemia_GSE71935\n",
      "Labels: {b'JMML': 0, b'normal': 1}\n",
      "Proportion (0.80, 0.20)\n",
      "Number of samples: Total = 46, Train dataset = 32, Test dataset = 14\n",
      "Average features: 2195.8\n",
      "Feature selected: 3.45\n",
      "Best solution found for testing dataset\n",
      "Testing dataset gmean (mean): 0.6148\n",
      "Testing dataset gmean (std): 0.3539\n",
      "Testing dataset gmean (max): 1.0000\n",
      "Testing dataset gmean (min): 0.0000\n"
     ]
    }
   ],
   "source": [
    "g_mean = np.zeros((n_tests, 1))\n",
    "features = np.zeros((n_tests, 1))\n",
    "fs = np.zeros((n_tests, 1))\n",
    "for i, model in enumerate(models):\n",
    "\t_, _, g_mean[i, 0] = model.evaluate(model.best_solution_test, model.x_test, model.y_test)\n",
    "\tfeatures[i, 0] = model.x_test.shape[1]\n",
    "\tfs[i, 0] = model.best_solution_test.count_nodes()[0]\n",
    "\n",
    "samples_train, samples_test = model.x_train.shape[0], model.x_test.shape[0]\n",
    "n_samples = samples_train + samples_test\n",
    "class_1 = (model.y_train.sum() + model.y_test.sum()) / n_samples\n",
    "class_0 = 1 - class_1\n",
    "\n",
    "print(f'Dataset {dataset}')\n",
    "print(f\"Labels: {problem['labels']}\")\n",
    "print(f'Proportion ({class_0:.02f}, {class_1:.02f})')\n",
    "print(f'Number of samples: Total = {n_samples}, Train dataset = {samples_train}, Test dataset = {samples_test}')\n",
    "print(f'Average features: {features.mean()}')\n",
    "print(f'Feature selected: {fs.mean()}')\n",
    "print(f'Best solution found for testing dataset')\n",
    "print(f'Testing dataset gmean (mean): {g_mean.mean():.4f}')\n",
    "print(f'Testing dataset gmean (std): {statistics.stdev(g_mean.squeeze()):.4f}')\n",
    "print(f'Testing dataset gmean (max): {g_mean.max():.4f}')\n",
    "print(f'Testing dataset gmean (min): {g_mean.min():.4f}')\n",
    "\n"
   ]
  }
 ],
 "metadata": {
  "interpreter": {
   "hash": "6d46af94c2bbce495f1e668725902fa517c90b1782bcfe2fce0dd9868df553d3"
  },
  "kernelspec": {
   "display_name": "Python 3.8.3 64-bit ('base': conda)",
   "language": "python",
   "name": "python3"
  },
  "language_info": {
   "codemirror_mode": {
    "name": "ipython",
    "version": 3
   },
   "file_extension": ".py",
   "mimetype": "text/x-python",
   "name": "python",
   "nbconvert_exporter": "python",
   "pygments_lexer": "ipython3",
   "version": "3.8.3"
  },
  "orig_nbformat": 4
 },
 "nbformat": 4,
 "nbformat_minor": 2
}
